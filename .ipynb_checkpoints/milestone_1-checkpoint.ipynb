{
 "cells": [
  {
   "cell_type": "markdown",
   "metadata": {},
   "source": [
    "# Milestone 1\n",
    "Building on previous exercises, build an interactive application that asks the user a series of questions and then stores the user's answers for later analysis."
   ]
  },
  {
   "cell_type": "markdown",
   "metadata": {},
   "source": [
    "## Requirements\n",
    "Your submission should include the following:\n",
    "- A Chatbot that asks three users a series of at least three questions.\n",
    "- Your chatbot should store the user's responses in a data structure, preferably a Pandas DataFrame, so that it can present a graphical analysis of the responses.\n",
    "- Your chatbot should provide at least one visualization, such as a vertical bar chart, that provides a basic summary and analysis of the user input."
   ]
  },
  {
   "cell_type": "markdown",
   "metadata": {},
   "source": [
    "## Example Code"
   ]
  },
  {
   "cell_type": "code",
   "execution_count": 1,
   "metadata": {},
   "outputs": [],
   "source": [
    "import pandas as pd\n",
    "import matplotlib.pyplot as plt"
   ]
  },
  {
   "cell_type": "markdown",
   "metadata": {},
   "source": [
    "### Create a Basic Chatbot"
   ]
  },
  {
   "cell_type": "code",
   "execution_count": 2,
   "metadata": {},
   "outputs": [],
   "source": [
    "positive = list(pd.read_csv(\"positive_words.txt\", header=0).iloc[:,0].values)"
   ]
  },
  {
   "cell_type": "code",
   "execution_count": 3,
   "metadata": {},
   "outputs": [
    {
     "data": {
      "text/plain": [
       "2006"
      ]
     },
     "execution_count": 3,
     "metadata": {},
     "output_type": "execute_result"
    }
   ],
   "source": [
    "len(positive)"
   ]
  },
  {
   "cell_type": "code",
   "execution_count": 4,
   "metadata": {},
   "outputs": [],
   "source": [
    "negative = list(pd.read_csv(\"negative_words.txt\", header=0).iloc[:,0].values)"
   ]
  },
  {
   "cell_type": "code",
   "execution_count": 5,
   "metadata": {},
   "outputs": [
    {
     "data": {
      "text/plain": [
       "4782"
      ]
     },
     "execution_count": 5,
     "metadata": {},
     "output_type": "execute_result"
    }
   ],
   "source": [
    "len(negative)"
   ]
  },
  {
   "cell_type": "markdown",
   "metadata": {},
   "source": [
    "### Initialize a DataFrame to Store User Input"
   ]
  },
  {
   "cell_type": "markdown",
   "metadata": {},
   "source": [
    "### Run the Chatbot and Save Each User's Answers"
   ]
  },
  {
   "cell_type": "code",
   "execution_count": 6,
   "metadata": {},
   "outputs": [
    {
     "name": "stdout",
     "output_type": "stream",
     "text": [
      "Hi there! What's your name?Elaine\n",
      "Nice to meet you, Elaine How are you today?happy\n",
      "I will ask a few questions. Press \"bye\" to quit.\n",
      "Good to hear!What are you so happy about?my holidays \n",
      "What's something you're looking forward to?swimming\n",
      "Do you have any plans for today?finish my work\n",
      "Hi there! What's your name?lily\n",
      "Nice to meet you, lily How are you today?happy\n",
      "I will ask a few questions. Press \"bye\" to quit.\n",
      "Good to hear!What are you so happy about?my birthday\n",
      "What's something you're looking forward to?presents \n",
      "Do you have any plans for today?nothing\n",
      "Hi there! What's your name?ben\n",
      "Nice to meet you, ben How are you today?bad\n",
      "I will ask a few questions. Press \"bye\" to quit.\n",
      "Sorry to hear that!What's bothering you?my homework\n",
      "What's something that would make you feel better?music\n",
      "What do you hope to accomplish today?My homework, although I don't know if I can do it\n",
      "Thanks for the response.\n"
     ]
    }
   ],
   "source": [
    "import pandas as pd\n",
    "import matplotlib.pyplot as plt\n",
    "\n",
    "\n",
    "\n",
    "responses = []\n",
    "questions = {\"pos\": [\"Good to hear!What are you so happy about?\", \"What's something you're looking forward to?\", \"Do you have any plans for today?\"],\n",
    "             \"neutral\": [\"What did you have for breakfast?\", \"Do you have any plans lately?\",\"What are your hobbies?\"],\n",
    "             \"neg\": [\"Sorry to hear that!What's bothering you?\", \"What's something that would make you feel better?\", \"What do you hope to accomplish today?\"]}\n",
    "escape = 'bye'\n",
    "\n",
    "\n",
    "for i in range(3):\n",
    "    response = {}\n",
    "    name = input(\"Hi there! What's your name?\")\n",
    "    mood=input(f'Nice to meet you, {name} How are you today?') \n",
    "    print(f'I will ask a few questions. Press \"{escape}\" to quit.')\n",
    "    response[\"name\"] = name\n",
    "    response[\"mood\"] = mood\n",
    "\n",
    "    positive_word_count = len(set(mood.split(\" \")).intersection(set(positive)))\n",
    "    negative_word_count = len(set(mood.split(\" \")).intersection(set(negative)))\n",
    "\n",
    "    if positive_word_count > negative_word_count:\n",
    "        for j, question in enumerate(questions['pos']):\n",
    "            answer = input(question)\n",
    "            if answer == 'bye':\n",
    "                break\n",
    "            response[j] = answer\n",
    "        responses.append(response)\n",
    "\n",
    "    elif positive_word_count < negative_word_count:\n",
    "        for j, question in enumerate(questions['neg']):\n",
    "            answer = input(question)\n",
    "            if answer == 'bye':\n",
    "                break\n",
    "            response[j] = answer\n",
    "        responses.append(response)\n",
    "\n",
    "    else:\n",
    "        for j, question in enumerate(questions['neutral']):\n",
    "            answer = input(question)\n",
    "            if answer == 'bye':\n",
    "                break\n",
    "            response[j] = answer\n",
    "        responses.append(response)\n",
    "    \n",
    "print(\"Thanks for the response.\")\n"
   ]
  },
  {
   "cell_type": "markdown",
   "metadata": {},
   "source": [
    "### View Cumulative Data"
   ]
  },
  {
   "cell_type": "code",
   "execution_count": 7,
   "metadata": {},
   "outputs": [],
   "source": [
    "df = pd.DataFrame(responses)\n",
    "\n",
    "mood_counts = df[\"mood\"].value_counts()"
   ]
  },
  {
   "cell_type": "code",
   "execution_count": 8,
   "metadata": {},
   "outputs": [
    {
     "data": {
      "text/html": [
       "<div>\n",
       "<style scoped>\n",
       "    .dataframe tbody tr th:only-of-type {\n",
       "        vertical-align: middle;\n",
       "    }\n",
       "\n",
       "    .dataframe tbody tr th {\n",
       "        vertical-align: top;\n",
       "    }\n",
       "\n",
       "    .dataframe thead th {\n",
       "        text-align: right;\n",
       "    }\n",
       "</style>\n",
       "<table border=\"1\" class=\"dataframe\">\n",
       "  <thead>\n",
       "    <tr style=\"text-align: right;\">\n",
       "      <th></th>\n",
       "      <th>name</th>\n",
       "      <th>mood</th>\n",
       "      <th>0</th>\n",
       "      <th>1</th>\n",
       "      <th>2</th>\n",
       "    </tr>\n",
       "  </thead>\n",
       "  <tbody>\n",
       "    <tr>\n",
       "      <th>0</th>\n",
       "      <td>Elaine</td>\n",
       "      <td>happy</td>\n",
       "      <td>my holidays</td>\n",
       "      <td>swimming</td>\n",
       "      <td>finish my work</td>\n",
       "    </tr>\n",
       "    <tr>\n",
       "      <th>1</th>\n",
       "      <td>lily</td>\n",
       "      <td>happy</td>\n",
       "      <td>my birthday</td>\n",
       "      <td>presents</td>\n",
       "      <td>nothing</td>\n",
       "    </tr>\n",
       "    <tr>\n",
       "      <th>2</th>\n",
       "      <td>ben</td>\n",
       "      <td>bad</td>\n",
       "      <td>my homework</td>\n",
       "      <td>music</td>\n",
       "      <td>My homework, although I don't know if I can do it</td>\n",
       "    </tr>\n",
       "  </tbody>\n",
       "</table>\n",
       "</div>"
      ],
      "text/plain": [
       "     name   mood             0          1  \\\n",
       "0  Elaine  happy  my holidays    swimming   \n",
       "1    lily  happy   my birthday  presents    \n",
       "2     ben    bad   my homework      music   \n",
       "\n",
       "                                                   2  \n",
       "0                                     finish my work  \n",
       "1                                            nothing  \n",
       "2  My homework, although I don't know if I can do it  "
      ]
     },
     "execution_count": 8,
     "metadata": {},
     "output_type": "execute_result"
    }
   ],
   "source": [
    "df"
   ]
  },
  {
   "cell_type": "markdown",
   "metadata": {},
   "source": [
    "### Analyze Data"
   ]
  },
  {
   "cell_type": "code",
   "execution_count": 9,
   "metadata": {},
   "outputs": [
    {
     "data": {
      "image/png": "[encoded data removed]",
      "text/plain": [
       "<Figure size 640x480 with 1 Axes>"
      ]
     },
     "metadata": {},
     "output_type": "display_data"
    }
   ],
   "source": [
    "\n",
    "plt.bar(mood_counts.index, mood_counts.values)\n",
    "plt.xlabel(\"Mood\")\n",
    "plt.ylabel(\"Count\")\n",
    "plt.title(\"Mood Counts\")\n",
    "\n",
    "plt.show()"
   ]
  },
  {
   "cell_type": "markdown",
   "metadata": {},
   "source": [
    "## Be Creative!\n",
    "Don't limit yourself to a simple Q&A. Feel free to explore things like the sentiment analysis that we did in Lab 1 by determining whether a user's input is positive or negative (remember the positive and negative word lists)."
   ]
  }
 ],
 "metadata": {
  "kernelspec": {
   "display_name": "Python 3 (ipykernel)",
   "language": "python",
   "name": "python3"
  },
  "language_info": {
   "codemirror_mode": {
    "name": "ipython",
    "version": 3
   },
   "file_extension": ".py",
   "mimetype": "text/x-python",
   "name": "python",
   "nbconvert_exporter": "python",
   "pygments_lexer": "ipython3",
   "version": "3.9.13"
  }
 },
 "nbformat": 4,
 "nbformat_minor": 1
}
